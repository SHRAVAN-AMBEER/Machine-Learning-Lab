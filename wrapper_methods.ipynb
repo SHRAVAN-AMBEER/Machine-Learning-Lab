{
  "cells": [
    {
      "cell_type": "markdown",
      "metadata": {
        "id": "view-in-github",
        "colab_type": "text"
      },
      "source": [
        "<a href=\"https://colab.research.google.com/github/SHRAVAN-AMBEER/Machine-Learning-Lab/blob/main/wrapper_methods.ipynb\" target=\"_parent\"><img src=\"https://colab.research.google.com/assets/colab-badge.svg\" alt=\"Open In Colab\"/></a>"
      ]
    },
    {
      "cell_type": "code",
      "execution_count": 1,
      "metadata": {
        "id": "V7hIyv3migNv"
      },
      "outputs": [],
      "source": [
        "import pandas as pd\n",
        "import numpy as np\n",
        "from sklearn.feature_selection import VarianceThreshold\n",
        "import matplotlib.pyplot as plt\n",
        "import seaborn as sns\n",
        "from sklearn.feature_selection import mutual_info_classif, mutual_info_regression\n",
        "\n"
      ]
    },
    {
      "cell_type": "code",
      "execution_count": 2,
      "metadata": {
        "colab": {
          "base_uri": "https://localhost:8080/"
        },
        "id": "BXPTtaOCiy4f",
        "outputId": "e4b249a5-de98-41a3-817a-9ff0f4746048"
      },
      "outputs": [
        {
          "output_type": "stream",
          "name": "stdout",
          "text": [
            "(1460, 81)\n",
            "Index(['Id', 'MSSubClass', 'MSZoning', 'LotFrontage', 'LotArea', 'Street',\n",
            "       'Alley', 'LotShape', 'LandContour', 'Utilities', 'LotConfig',\n",
            "       'LandSlope', 'Neighborhood', 'Condition1', 'Condition2', 'BldgType',\n",
            "       'HouseStyle', 'OverallQual', 'OverallCond', 'YearBuilt', 'YearRemodAdd',\n",
            "       'RoofStyle', 'RoofMatl', 'Exterior1st', 'Exterior2nd', 'MasVnrType',\n",
            "       'MasVnrArea', 'ExterQual', 'ExterCond', 'Foundation', 'BsmtQual',\n",
            "       'BsmtCond', 'BsmtExposure', 'BsmtFinType1', 'BsmtFinSF1',\n",
            "       'BsmtFinType2', 'BsmtFinSF2', 'BsmtUnfSF', 'TotalBsmtSF', 'Heating',\n",
            "       'HeatingQC', 'CentralAir', 'Electrical', '1stFlrSF', '2ndFlrSF',\n",
            "       'LowQualFinSF', 'GrLivArea', 'BsmtFullBath', 'BsmtHalfBath', 'FullBath',\n",
            "       'HalfBath', 'BedroomAbvGr', 'KitchenAbvGr', 'KitchenQual',\n",
            "       'TotRmsAbvGrd', 'Functional', 'Fireplaces', 'FireplaceQu', 'GarageType',\n",
            "       'GarageYrBlt', 'GarageFinish', 'GarageCars', 'GarageArea', 'GarageQual',\n",
            "       'GarageCond', 'PavedDrive', 'WoodDeckSF', 'OpenPorchSF',\n",
            "       'EnclosedPorch', '3SsnPorch', 'ScreenPorch', 'PoolArea', 'PoolQC',\n",
            "       'Fence', 'MiscFeature', 'MiscVal', 'MoSold', 'YrSold', 'SaleType',\n",
            "       'SaleCondition', 'SalePrice'],\n",
            "      dtype='object')\n"
          ]
        }
      ],
      "source": [
        "filepath2 = '/content/drive/MyDrive/Machine Learning /ML LAB /Datasets/house_price_train.csv'\n",
        "df2 = pd.read_csv(filepath2)\n",
        "print(df2.shape)\n",
        "print(df2.columns)"
      ]
    },
    {
      "cell_type": "code",
      "execution_count": 3,
      "metadata": {
        "colab": {
          "base_uri": "https://localhost:8080/"
        },
        "id": "4CMS8Gy_iz5W",
        "outputId": "dcb11370-0436-4acc-d3d1-0d4ad80fdd09"
      },
      "outputs": [
        {
          "output_type": "stream",
          "name": "stdout",
          "text": [
            "(1022, 80)\n",
            "(438, 80)\n"
          ]
        }
      ],
      "source": [
        "from sklearn.model_selection import train_test_split\n",
        "\n",
        "x_train2, x_test2, y_train2, y_test2 = train_test_split(\n",
        "    df2.drop(labels=['SalePrice'], axis=1),  # features\n",
        "    df2['SalePrice'],                        # target\n",
        "    test_size=0.3,\n",
        "    random_state=0\n",
        ")\n",
        "\n",
        "print(x_train2.shape)\n",
        "print(x_test2.shape)"
      ]
    },
    {
      "cell_type": "markdown",
      "source": [
        "SFS(Sequential Forward Selection)"
      ],
      "metadata": {
        "id": "T3oj5TY5Yqp6"
      }
    },
    {
      "cell_type": "code",
      "execution_count": 4,
      "metadata": {
        "colab": {
          "base_uri": "https://localhost:8080/"
        },
        "id": "5lptMNtRi87n",
        "outputId": "a462642d-03bb-4590-dfa1-2c47961ab4aa"
      },
      "outputs": [
        {
          "output_type": "stream",
          "name": "stdout",
          "text": [
            "Train shape: (1022, 244)\n",
            "Test shape: (438, 244)\n"
          ]
        },
        {
          "output_type": "stream",
          "name": "stderr",
          "text": [
            "[Parallel(n_jobs=1)]: Done  40 tasks      | elapsed:   23.8s\n",
            "[Parallel(n_jobs=1)]: Done 161 tasks      | elapsed:  1.6min\n",
            "[Parallel(n_jobs=1)]: Done 244 out of 244 | elapsed:  2.4min finished\n",
            "\n",
            "[2025-09-02 16:59:02] Features: 1/2 -- score: 0.6671760786062669[Parallel(n_jobs=1)]: Done  40 tasks      | elapsed:   24.2s\n",
            "[Parallel(n_jobs=1)]: Done 161 tasks      | elapsed:  1.6min\n"
          ]
        },
        {
          "output_type": "stream",
          "name": "stdout",
          "text": [
            "Selected features: ['OverallQual', 'GarageCars']\n"
          ]
        },
        {
          "output_type": "stream",
          "name": "stderr",
          "text": [
            "[Parallel(n_jobs=1)]: Done 243 out of 243 | elapsed:  2.3min finished\n",
            "\n",
            "[2025-09-02 17:01:22] Features: 2/2 -- score: 0.7221363257636676"
          ]
        }
      ],
      "source": [
        "import pandas as pd\n",
        "import numpy as np\n",
        "from sklearn.model_selection import train_test_split\n",
        "from sklearn.ensemble import RandomForestRegressor\n",
        "from mlxtend.feature_selection import SequentialFeatureSelector as SFS\n",
        "\n",
        "\n",
        "X = df2.drop(columns=['Id', 'SalePrice'])\n",
        "y = df2['SalePrice']\n",
        "\n",
        "# Perform one-hot encoding on the entire dataset before splitting\n",
        "X_encoded = pd.get_dummies(X, drop_first=True)\n",
        "\n",
        "x_train2, x_test2, y_train2, y_test2 = train_test_split(\n",
        "    X_encoded, y, test_size=0.3, random_state=0\n",
        ")\n",
        "\n",
        "print(\"Train shape:\", x_train2.shape)\n",
        "print(\"Test shape:\", x_test2.shape)\n",
        "\n",
        "\n",
        "sfs1 = SFS(RandomForestRegressor(n_jobs=-1, random_state=0),\n",
        "           k_features=2,\n",
        "           forward=True,\n",
        "           floating=False,\n",
        "           verbose=2,\n",
        "           scoring='r2',\n",
        "           cv=3)\n",
        "\n",
        "sfs1 = sfs1.fit(x_train2.values, y_train2.values)\n",
        "\n",
        "\n",
        "selected_features = x_train2.columns[list(sfs1.k_feature_idx_)]\n",
        "print(\"Selected features:\", selected_features.tolist())"
      ]
    },
    {
      "cell_type": "code",
      "execution_count": null,
      "metadata": {
        "colab": {
          "background_save": true,
          "base_uri": "https://localhost:8080/"
        },
        "id": "2gV07qLIjAc7",
        "outputId": "be80f070-c975-4fdb-b50c-bc4ad364b83e"
      },
      "outputs": [
        {
          "name": "stderr",
          "output_type": "stream",
          "text": [
            "[Parallel(n_jobs=1)]: Done  40 tasks      | elapsed:  2.3min\n",
            "[Parallel(n_jobs=1)]: Done 161 tasks      | elapsed:  8.9min\n",
            "[Parallel(n_jobs=1)]: Done 244 out of 244 | elapsed: 13.4min finished\n",
            "\n",
            "[2025-08-31 18:39:02] Features: 243/5 -- score: 0.859588709788507[Parallel(n_jobs=1)]: Done  40 tasks      | elapsed:  2.2min\n",
            "[Parallel(n_jobs=1)]: Done 161 tasks      | elapsed:  8.8min\n",
            "[Parallel(n_jobs=1)]: Done 243 out of 243 | elapsed: 13.3min finished\n",
            "\n",
            "[2025-08-31 18:52:20] Features: 242/5 -- score: 0.8605876662605315[Parallel(n_jobs=1)]: Done  40 tasks      | elapsed:  2.2min\n",
            "[Parallel(n_jobs=1)]: Done 161 tasks      | elapsed:  8.8min\n",
            "[Parallel(n_jobs=1)]: Done 242 out of 242 | elapsed: 13.2min finished\n",
            "\n",
            "[2025-08-31 19:05:30] Features: 241/5 -- score: 0.8595577278104054[Parallel(n_jobs=1)]: Done  40 tasks      | elapsed:  2.2min\n",
            "[Parallel(n_jobs=1)]: Done 161 tasks      | elapsed:  8.7min\n",
            "[Parallel(n_jobs=1)]: Done 241 out of 241 | elapsed: 13.1min finished\n",
            "\n",
            "[2025-08-31 19:18:33] Features: 240/5 -- score: 0.8597088535135038[Parallel(n_jobs=1)]: Done  40 tasks      | elapsed:  2.2min\n",
            "[Parallel(n_jobs=1)]: Done 161 tasks      | elapsed:  9.4min\n",
            "[Parallel(n_jobs=1)]: Done 240 out of 240 | elapsed: 13.9min finished\n",
            "\n",
            "[2025-08-31 19:32:25] Features: 239/5 -- score: 0.8596594039674889[Parallel(n_jobs=1)]: Done  40 tasks      | elapsed:  2.2min\n",
            "[Parallel(n_jobs=1)]: Done 161 tasks      | elapsed:  8.9min\n",
            "[Parallel(n_jobs=1)]: Done 239 out of 239 | elapsed: 13.3min finished\n",
            "\n",
            "[2025-08-31 19:45:40] Features: 238/5 -- score: 0.8597862659877821[Parallel(n_jobs=1)]: Done  40 tasks      | elapsed:  2.2min\n",
            "[Parallel(n_jobs=1)]: Done 161 tasks      | elapsed:  8.8min\n"
          ]
        }
      ],
      "source": [
        "sfs1 = SFS(RandomForestRegressor(n_jobs=4),\n",
        "           k_features = 5,\n",
        "           forward = False,\n",
        "           floating = False,\n",
        "           verbose = 2,\n",
        "           scoring = 'r2',\n",
        "           cv = 3)\n",
        "# Use the one-hot encoded x_train2 from cell 5lptMNtRi87n\n",
        "# Drop the 'Id' column as it's not numeric and not needed for the model\n",
        "# The Id column has already been dropped and one-hot encoding applied in cell 5lptMNtRi87n\n",
        "sfs1 = sfs1.fit(np.array(x_train2), y_train2)\n",
        "x_train2.columns[list(sfs1.k_feature_idx_)]"
      ]
    },
    {
      "cell_type": "code",
      "execution_count": 5,
      "metadata": {
        "id": "MndghGcsjDxo",
        "colab": {
          "base_uri": "https://localhost:8080/"
        },
        "outputId": "05adbd26-6bd6-40db-8e06-5e18522c5c23"
      },
      "outputs": [
        {
          "output_type": "stream",
          "name": "stdout",
          "text": [
            "Shape of x_train2: (1022, 244)\n",
            "Columns: ['MSSubClass', 'LotFrontage', 'LotArea', 'OverallQual', 'OverallCond', 'YearBuilt', 'YearRemodAdd', 'MasVnrArea', 'BsmtFinSF1', 'BsmtFinSF2', 'BsmtUnfSF', 'TotalBsmtSF', '1stFlrSF', '2ndFlrSF', 'LowQualFinSF', 'GrLivArea', 'BsmtFullBath', 'BsmtHalfBath', 'FullBath', 'HalfBath', 'BedroomAbvGr', 'KitchenAbvGr', 'TotRmsAbvGrd', 'Fireplaces', 'GarageYrBlt', 'GarageCars', 'GarageArea', 'WoodDeckSF', 'OpenPorchSF', 'EnclosedPorch', '3SsnPorch', 'ScreenPorch', 'PoolArea', 'MiscVal', 'MoSold', 'YrSold', 'MSZoning_FV', 'MSZoning_RH', 'MSZoning_RL', 'MSZoning_RM', 'Street_Pave', 'Alley_Pave', 'LotShape_IR2', 'LotShape_IR3', 'LotShape_Reg', 'LandContour_HLS', 'LandContour_Low', 'LandContour_Lvl', 'Utilities_NoSeWa', 'LotConfig_CulDSac', 'LotConfig_FR2', 'LotConfig_FR3', 'LotConfig_Inside', 'LandSlope_Mod', 'LandSlope_Sev', 'Neighborhood_Blueste', 'Neighborhood_BrDale', 'Neighborhood_BrkSide', 'Neighborhood_ClearCr', 'Neighborhood_CollgCr', 'Neighborhood_Crawfor', 'Neighborhood_Edwards', 'Neighborhood_Gilbert', 'Neighborhood_IDOTRR', 'Neighborhood_MeadowV', 'Neighborhood_Mitchel', 'Neighborhood_NAmes', 'Neighborhood_NPkVill', 'Neighborhood_NWAmes', 'Neighborhood_NoRidge', 'Neighborhood_NridgHt', 'Neighborhood_OldTown', 'Neighborhood_SWISU', 'Neighborhood_Sawyer', 'Neighborhood_SawyerW', 'Neighborhood_Somerst', 'Neighborhood_StoneBr', 'Neighborhood_Timber', 'Neighborhood_Veenker', 'Condition1_Feedr', 'Condition1_Norm', 'Condition1_PosA', 'Condition1_PosN', 'Condition1_RRAe', 'Condition1_RRAn', 'Condition1_RRNe', 'Condition1_RRNn', 'Condition2_Feedr', 'Condition2_Norm', 'Condition2_PosA', 'Condition2_PosN', 'Condition2_RRAe', 'Condition2_RRAn', 'Condition2_RRNn', 'BldgType_2fmCon', 'BldgType_Duplex', 'BldgType_Twnhs', 'BldgType_TwnhsE', 'HouseStyle_1.5Unf', 'HouseStyle_1Story', 'HouseStyle_2.5Fin', 'HouseStyle_2.5Unf', 'HouseStyle_2Story', 'HouseStyle_SFoyer', 'HouseStyle_SLvl', 'RoofStyle_Gable', 'RoofStyle_Gambrel', 'RoofStyle_Hip', 'RoofStyle_Mansard', 'RoofStyle_Shed', 'RoofMatl_CompShg', 'RoofMatl_Membran', 'RoofMatl_Metal', 'RoofMatl_Roll', 'RoofMatl_Tar&Grv', 'RoofMatl_WdShake', 'RoofMatl_WdShngl', 'Exterior1st_AsphShn', 'Exterior1st_BrkComm', 'Exterior1st_BrkFace', 'Exterior1st_CBlock', 'Exterior1st_CemntBd', 'Exterior1st_HdBoard', 'Exterior1st_ImStucc', 'Exterior1st_MetalSd', 'Exterior1st_Plywood', 'Exterior1st_Stone', 'Exterior1st_Stucco', 'Exterior1st_VinylSd', 'Exterior1st_Wd Sdng', 'Exterior1st_WdShing', 'Exterior2nd_AsphShn', 'Exterior2nd_Brk Cmn', 'Exterior2nd_BrkFace', 'Exterior2nd_CBlock', 'Exterior2nd_CmentBd', 'Exterior2nd_HdBoard', 'Exterior2nd_ImStucc', 'Exterior2nd_MetalSd', 'Exterior2nd_Other', 'Exterior2nd_Plywood', 'Exterior2nd_Stone', 'Exterior2nd_Stucco', 'Exterior2nd_VinylSd', 'Exterior2nd_Wd Sdng', 'Exterior2nd_Wd Shng', 'MasVnrType_BrkFace', 'MasVnrType_Stone', 'ExterQual_Fa', 'ExterQual_Gd', 'ExterQual_TA', 'ExterCond_Fa', 'ExterCond_Gd', 'ExterCond_Po', 'ExterCond_TA', 'Foundation_CBlock', 'Foundation_PConc', 'Foundation_Slab', 'Foundation_Stone', 'Foundation_Wood', 'BsmtQual_Fa', 'BsmtQual_Gd', 'BsmtQual_TA', 'BsmtCond_Gd', 'BsmtCond_Po', 'BsmtCond_TA', 'BsmtExposure_Gd', 'BsmtExposure_Mn', 'BsmtExposure_No', 'BsmtFinType1_BLQ', 'BsmtFinType1_GLQ', 'BsmtFinType1_LwQ', 'BsmtFinType1_Rec', 'BsmtFinType1_Unf', 'BsmtFinType2_BLQ', 'BsmtFinType2_GLQ', 'BsmtFinType2_LwQ', 'BsmtFinType2_Rec', 'BsmtFinType2_Unf', 'Heating_GasA', 'Heating_GasW', 'Heating_Grav', 'Heating_OthW', 'Heating_Wall', 'HeatingQC_Fa', 'HeatingQC_Gd', 'HeatingQC_Po', 'HeatingQC_TA', 'CentralAir_Y', 'Electrical_FuseF', 'Electrical_FuseP', 'Electrical_Mix', 'Electrical_SBrkr', 'KitchenQual_Fa', 'KitchenQual_Gd', 'KitchenQual_TA', 'Functional_Maj2', 'Functional_Min1', 'Functional_Min2', 'Functional_Mod', 'Functional_Sev', 'Functional_Typ', 'FireplaceQu_Fa', 'FireplaceQu_Gd', 'FireplaceQu_Po', 'FireplaceQu_TA', 'GarageType_Attchd', 'GarageType_Basment', 'GarageType_BuiltIn', 'GarageType_CarPort', 'GarageType_Detchd', 'GarageFinish_RFn', 'GarageFinish_Unf', 'GarageQual_Fa', 'GarageQual_Gd', 'GarageQual_Po', 'GarageQual_TA', 'GarageCond_Fa', 'GarageCond_Gd', 'GarageCond_Po', 'GarageCond_TA', 'PavedDrive_P', 'PavedDrive_Y', 'PoolQC_Fa', 'PoolQC_Gd', 'Fence_GdWo', 'Fence_MnPrv', 'Fence_MnWw', 'MiscFeature_Othr', 'MiscFeature_Shed', 'MiscFeature_TenC', 'SaleType_CWD', 'SaleType_Con', 'SaleType_ConLD', 'SaleType_ConLI', 'SaleType_ConLw', 'SaleType_New', 'SaleType_Oth', 'SaleType_WD', 'SaleCondition_AdjLand', 'SaleCondition_Alloca', 'SaleCondition_Family', 'SaleCondition_Normal', 'SaleCondition_Partial']\n"
          ]
        }
      ],
      "source": [
        "print(\"Shape of x_train2:\", x_train2.shape)\n",
        "print(\"Columns:\", list(x_train2.columns))"
      ]
    },
    {
      "cell_type": "code",
      "execution_count": 6,
      "metadata": {
        "id": "ajpDrtbojEyv",
        "colab": {
          "base_uri": "https://localhost:8080/"
        },
        "outputId": "576eae6d-1c0d-4e0b-8669-70be5ce6beb6"
      },
      "outputs": [
        {
          "output_type": "stream",
          "name": "stderr",
          "text": [
            "Features: 15/15"
          ]
        },
        {
          "output_type": "stream",
          "name": "stdout",
          "text": [
            "Best score: 0.9666666666666666\n",
            "Best feature indices: (0, 2, 3)\n",
            "Best feature names: ('sepal length (cm)', 'petal length (cm)', 'petal width (cm)')\n"
          ]
        }
      ],
      "source": [
        "import pandas as pd\n",
        "from sklearn.model_selection import train_test_split\n",
        "from sklearn.linear_model import LogisticRegression\n",
        "from mlxtend.feature_selection import ExhaustiveFeatureSelector as EFS\n",
        "\n",
        "from sklearn.datasets import load_iris\n",
        "data = load_iris()\n",
        "X = pd.DataFrame(data.data, columns=data.feature_names)\n",
        "y = pd.Series(data.target)\n",
        "\n",
        "\n",
        "x_train2, x_test2, y_train2, y_test2 = train_test_split(X, y, test_size=0.2, random_state=42)\n",
        "\n",
        "lr = LogisticRegression(max_iter=1000)\n",
        "\n",
        "efs = EFS(estimator=lr,\n",
        "          min_features=1,\n",
        "          max_features=X.shape[1],\n",
        "          scoring='accuracy',\n",
        "          print_progress=True,\n",
        "          cv=5\n",
        ")\n",
        "\n",
        "efs = efs.fit(x_train2, y_train2)\n",
        "\n",
        "\n",
        "print(\"Best score:\", efs.best_score_)\n",
        "print(\"Best feature indices:\", efs.best_idx_)\n",
        "print(\"Best feature names:\", efs.best_feature_names_)"
      ]
    },
    {
      "cell_type": "code",
      "execution_count": 7,
      "metadata": {
        "id": "KZ0R1BwvjK-A",
        "colab": {
          "base_uri": "https://localhost:8080/"
        },
        "outputId": "cda47701-8497-44a2-a6c1-5e249d520ae7"
      },
      "outputs": [
        {
          "output_type": "stream",
          "name": "stdout",
          "text": [
            "Top 3 selected features by RFE:\n",
            "Index(['sepal width (cm)', 'petal length (cm)', 'petal width (cm)'], dtype='object')\n",
            "\n",
            "Feature ranking (1 = most important):\n",
            "sepal width (cm)     1\n",
            "petal length (cm)    1\n",
            "petal width (cm)     1\n",
            "sepal length (cm)    2\n",
            "dtype: int64\n"
          ]
        }
      ],
      "source": [
        "import pandas as pd\n",
        "from sklearn.model_selection import train_test_split\n",
        "from sklearn.linear_model import LogisticRegression\n",
        "from sklearn.feature_selection import RFE\n",
        "from sklearn.datasets import load_iris\n",
        "\n",
        "\n",
        "data = load_iris()\n",
        "X = pd.DataFrame(data.data, columns=data.feature_names)\n",
        "y = pd.Series(data.target)\n",
        "\n",
        "x_train, x_test, y_train, y_test = train_test_split(X, y, test_size=0.2, random_state=42)\n",
        "\n",
        "\n",
        "lr = LogisticRegression(max_iter=1000)\n",
        "\n",
        "\n",
        "rfe = RFE(estimator=lr, n_features_to_select=3)\n",
        "rfe.fit(x_train, y_train)\n",
        "\n",
        "\n",
        "selected_features = x_train.columns[rfe.support_]\n",
        "print(\"Top 3 selected features by RFE:\")\n",
        "print(selected_features)\n",
        "\n",
        "feature_ranking = pd.Series(rfe.ranking_, index=x_train.columns).sort_values()\n",
        "print(\"\\nFeature ranking (1 = most important):\")\n",
        "print(feature_ranking)"
      ]
    }
  ],
  "metadata": {
    "colab": {
      "provenance": [],
      "gpuType": "T4",
      "mount_file_id": "1vUm9h25tyirMxhBrmLmIKU5lmxFQD0lf",
      "authorship_tag": "ABX9TyMz9GbSD6d4ml23QIF9KlzI",
      "include_colab_link": true
    },
    "kernelspec": {
      "display_name": "Python 3",
      "name": "python3"
    },
    "language_info": {
      "name": "python"
    },
    "accelerator": "GPU"
  },
  "nbformat": 4,
  "nbformat_minor": 0
}